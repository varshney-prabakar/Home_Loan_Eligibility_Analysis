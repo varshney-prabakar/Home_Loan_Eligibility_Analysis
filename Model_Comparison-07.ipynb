{
 "cells": [
  {
   "cell_type": "code",
   "execution_count": 3,
   "id": "d6de2528-e1d3-4faa-a321-840ec9b90611",
   "metadata": {},
   "outputs": [],
   "source": [
    "##Step 8 - Model Comparison and Final Report\n",
    "import joblib\n",
    "log_reg = joblib.load(\"logistic_regression.pkl\")\n",
    "rf = joblib.load(\"random_forest.pk1\")\n",
    "\n",
    "\n"
   ]
  },
  {
   "cell_type": "code",
   "execution_count": 4,
   "id": "d82c8bee-d3c9-46b4-8fad-6db85fd29c11",
   "metadata": {},
   "outputs": [],
   "source": [
    "##Loading test data\n",
    "import pandas as pd\n",
    "test = pd.read_csv(\"dptest.csv\")\n",
    "X_test = test.drop(\"Loan_Status\", axis=1)\n",
    "y_test = test[\"Loan_Status\"]\n"
   ]
  },
  {
   "cell_type": "code",
   "execution_count": 5,
   "id": "f1115d25-5021-4e42-be45-9e585dda00ba",
   "metadata": {},
   "outputs": [
    {
     "name": "stdout",
     "output_type": "stream",
     "text": [
      "Logistic Regression - Accuracy: 0.8617886178861789 F1: 0.9081081081081082\n",
      "Random Forest - Accuracy: 0.8373983739837398 F1: 0.8913043478260869\n"
     ]
    }
   ],
   "source": [
    "##Evaluate both models\n",
    "from sklearn.metrics import accuracy_score, f1_score\n",
    "\n",
    "# Logistic Regression\n",
    "y_pred_lr = log_reg.predict(X_test)\n",
    "lr_acc = accuracy_score(y_test, y_pred_lr)\n",
    "lr_f1 = f1_score(y_test, y_pred_lr)\n",
    "\n",
    "# Random Forest\n",
    "y_pred_rf = rf.predict(X_test)\n",
    "rf_acc = accuracy_score(y_test, y_pred_rf)\n",
    "rf_f1 = f1_score(y_test, y_pred_rf)\n",
    "\n",
    "print(\"Logistic Regression - Accuracy:\", lr_acc, \"F1:\", lr_f1)\n",
    "print(\"Random Forest - Accuracy:\", rf_acc, \"F1:\", rf_f1)\n"
   ]
  },
  {
   "cell_type": "code",
   "execution_count": 12,
   "id": "92b2c4b9-c3a4-49da-be52-3b6dcdf736c1",
   "metadata": {},
   "outputs": [
    {
     "data": {
      "image/png": "[encoded data removed]",
      "text/plain": [
       "<Figure size 600x400 with 1 Axes>"
      ]
     },
     "metadata": {},
     "output_type": "display_data"
    }
   ],
   "source": [
    "##Visual Comparison\n",
    "import numpy as np\n",
    "x = np.arange(len(models))  # [0, 1]\n",
    "width = 0.35\n",
    "\n",
    "plt.figure(figsize=(6,4))\n",
    "plt.bar(x - width/2, accuracy, width, label=\"Accuracy\", color=\"skyblue\")\n",
    "plt.bar(x + width/2, f1, width, label=\"F1 Score\", color=\"pink\")\n",
    "\n",
    "plt.ylabel(\"Score\")\n",
    "plt.title(\"Model Comparison\")\n",
    "plt.xticks(x, models)\n",
    "plt.legend()\n",
    "plt.tight_layout()\n",
    "plt.savefig(\"model_comparison.png\", bbox_inches=\"tight\")\n",
    "plt.show()\n",
    "\n"
   ]
  },
  {
   "cell_type": "code",
   "execution_count": null,
   "id": "944b9238-5a50-4c99-8c1c-7a4ace7b885f",
   "metadata": {},
   "outputs": [],
   "source": [
    "##Comparison Chart\n",
    "- Logistic Regression: simpler, interpretable\n",
    "- Random Forest: higher accuracy & better handling of non-linear data\n"
   ]
  },
  {
   "cell_type": "code",
   "execution_count": null,
   "id": "993b091c-d99f-4011-b28b-7ad90d59723c",
   "metadata": {},
   "outputs": [],
   "source": [
    "##Deliverables for Step 8\n",
    "-Notebook: 07-EDA.ipynb.\n",
    "-Comparison chart: model_comparison.png.\n",
    "-README updated with final results & conclusion."
   ]
  },
  {
   "cell_type": "code",
   "execution_count": null,
   "id": "996e4160-8270-4886-a634-fa8441a034c0",
   "metadata": {},
   "outputs": [],
   "source": [
    "##Final Report\n",
    "- Analyzed loan data and built predictive models.  \n",
    "- Logistic Regression gave a baseline with simple interpretation.  \n",
    "- Random Forest improved performance and identified important features like Credit_History and Income.  \n",
    "- Recommendation: Use Random Forest for higher accuracy, but Logistic Regression remains useful for quick, interpretable results.  \n"
   ]
  }
 ],
 "metadata": {
  "kernelspec": {
   "display_name": "Python 3 (ipykernel)",
   "language": "python",
   "name": "python3"
  },
  "language_info": {
   "codemirror_mode": {
    "name": "ipython",
    "version": 3
   },
   "file_extension": ".py",
   "mimetype": "text/x-python",
   "name": "python",
   "nbconvert_exporter": "python",
   "pygments_lexer": "ipython3",
   "version": "3.12.7"
  }
 },
 "nbformat": 4,
 "nbformat_minor": 5
}
