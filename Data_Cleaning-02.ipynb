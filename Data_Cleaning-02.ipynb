{
 "cells": [
  {
   "cell_type": "code",
   "execution_count": null,
   "id": "1bd22608-f202-48ff-91d1-505a9900034b",
   "metadata": {},
   "outputs": [],
   "source": [
    "# Step 3 - Cleaning the Data"
   ]
  },
  {
   "cell_type": "code",
   "execution_count": 1,
   "id": "dbb1cffb-35c8-4ea0-bd74-6d8a8bac8e02",
   "metadata": {},
   "outputs": [],
   "source": [
    "import pandas as pd\n",
    "df=pd.read_csv(r\"C:\\Users\\USER\\Downloads\\Home Loan Eligibility.csv\")"
   ]
  },
  {
   "cell_type": "code",
   "execution_count": 2,
   "id": "3b3aaf60-4ef9-4dd1-b9a6-09df6196edcb",
   "metadata": {},
   "outputs": [],
   "source": [
    "df=df.drop_duplicates()\n",
    "# Removes Duplicates"
   ]
  },
  {
   "cell_type": "code",
   "execution_count": 5,
   "id": "1c9805d0-b9a0-4291-8b06-5e56ea88d931",
   "metadata": {},
   "outputs": [],
   "source": [
    "df['Gender']=df['Gender'].fillna(df['Gender'].mode()[0])\n",
    "#Filling Missing Values - Catagorical Columns "
   ]
  },
  {
   "cell_type": "code",
   "execution_count": 6,
   "id": "09ad48ac-27eb-41f1-9b64-56086087f2b0",
   "metadata": {},
   "outputs": [],
   "source": [
    "df['Married']=df['Married'].fillna(df['Married'].mode()[0])"
   ]
  },
  {
   "cell_type": "code",
   "execution_count": 7,
   "id": "231a20bf-a13f-42fd-ad92-1a0ac5bff3cb",
   "metadata": {},
   "outputs": [],
   "source": [
    "df['Dependents']=df['Dependents'].fillna(df['Dependents'].mode()[0])"
   ]
  },
  {
   "cell_type": "code",
   "execution_count": 8,
   "id": "13d2869e-d16a-4ee9-9753-a9a16a4caaf7",
   "metadata": {},
   "outputs": [],
   "source": [
    "df['LoanAmount']=df['LoanAmount'].fillna(df['LoanAmount'].median())\n",
    "#Filling missing values - Numerical Columns\n",
    "#median as it contained more outliers\n",
    "#mean if it was normal distribution"
   ]
  },
  {
   "cell_type": "code",
   "execution_count": 9,
   "id": "5a9ea185-e7eb-4593-b8ae-492490f6d629",
   "metadata": {},
   "outputs": [],
   "source": [
    "df['Credit_History']=df['Credit_History'].fillna(df['Credit_History'].mode()[0])"
   ]
  },
  {
   "cell_type": "code",
   "execution_count": 10,
   "id": "aa4f551c-fa4e-4ca8-94c7-94b979e2d4d1",
   "metadata": {},
   "outputs": [
    {
     "data": {
      "text/plain": [
       "Loan_ID               0\n",
       "Gender                0\n",
       "Married               0\n",
       "Dependents            0\n",
       "Education             0\n",
       "Self_Employed        32\n",
       "ApplicantIncome       0\n",
       "CoapplicantIncome     0\n",
       "LoanAmount            0\n",
       "Loan_Amount_Term     14\n",
       "Credit_History        0\n",
       "Property_Area         0\n",
       "Loan_Status           0\n",
       "dtype: int64"
      ]
     },
     "execution_count": 10,
     "metadata": {},
     "output_type": "execute_result"
    }
   ],
   "source": [
    "df.isnull().sum()"
   ]
  },
  {
   "cell_type": "code",
   "execution_count": 11,
   "id": "ea77454a-3462-4eee-8627-b051927080d1",
   "metadata": {},
   "outputs": [],
   "source": [
    "df['Self_Employed']=df['Self_Employed'].fillna(df['Self_Employed'].mode()[0])"
   ]
  },
  {
   "cell_type": "code",
   "execution_count": 12,
   "id": "0461213d-790c-4f3e-92df-4526accc09f8",
   "metadata": {},
   "outputs": [],
   "source": [
    "df['Loan_Amount_Term']=df['Loan_Amount_Term'].fillna(df['Loan_Amount_Term'].median())"
   ]
  },
  {
   "cell_type": "code",
   "execution_count": 13,
   "id": "bfc78762-773b-4155-8e07-5ae301806144",
   "metadata": {},
   "outputs": [
    {
     "data": {
      "text/plain": [
       "Loan_ID              0\n",
       "Gender               0\n",
       "Married              0\n",
       "Dependents           0\n",
       "Education            0\n",
       "Self_Employed        0\n",
       "ApplicantIncome      0\n",
       "CoapplicantIncome    0\n",
       "LoanAmount           0\n",
       "Loan_Amount_Term     0\n",
       "Credit_History       0\n",
       "Property_Area        0\n",
       "Loan_Status          0\n",
       "dtype: int64"
      ]
     },
     "execution_count": 13,
     "metadata": {},
     "output_type": "execute_result"
    }
   ],
   "source": [
    "df.isnull().sum()"
   ]
  },
  {
   "cell_type": "code",
   "execution_count": 14,
   "id": "66f1bb1d-9904-4710-9ff1-edb23ed9b888",
   "metadata": {},
   "outputs": [],
   "source": [
    "#Handling Outliers - Cap extreme values\n",
    "#Capping means\n",
    "#Instead of removing outliers, we replace them with a maximum (cap) or minimum (floor) limit.\n",
    "import numpy as np\n",
    "df['ApplicantIncome']=np.where(df['ApplicantIncome']>10171.25, 10171.25,df['ApplicantIncome'])"
   ]
  },
  {
   "cell_type": "code",
   "execution_count": 15,
   "id": "15ea583d-92ec-45cf-aa19-7740738cf7b3",
   "metadata": {},
   "outputs": [],
   "source": [
    "df['LoanAmount']=np.where(df['LoanAmount']>270,270,df['LoanAmount'])"
   ]
  },
  {
   "cell_type": "code",
   "execution_count": null,
   "id": "736990ac-ceea-4bf1-b5dd-0cf4b9c247c7",
   "metadata": {},
   "outputs": [],
   "source": [
    "# Step 3 - Data Cleaning\n",
    "- Dropped duplicate rows (0 duplicates removed).\n",
    "- Filled missing values:\n",
    "  - Gender → filled with most common (Male).\n",
    "  - Married → filled with most common (Yes).\n",
    "  - Dependents → filled with most common.\n",
    "  - LoanAmount → filled with median.\n",
    "  - Credit_History → filled with most common.\n",
    "- Outliers handled:\n",
    "  - ApplicantIncome capped at 10171.25.\n",
    "  - LoanAmount capped at 270.\n",
    "Data is now clean and ready for exploration.\n",
    "# Step 3 - Deliverables\n",
    "1.Notebook with code that cleans dataset.\n",
    "2.Markdown notes explaining how you cleaned it and why.                          \n",
    "\n"
   ]
  },
  {
   "cell_type": "code",
   "execution_count": 19,
   "id": "bf2ba596-12ec-49b6-bb0e-752db6d03752",
   "metadata": {},
   "outputs": [],
   "source": [
    "df.to_csv(\"loans_clean.csv\",index=False)"
   ]
  },
  {
   "cell_type": "code",
   "execution_count": null,
   "id": "2a7601fe-4456-405e-8cac-27489c87579c",
   "metadata": {},
   "outputs": [],
   "source": []
  },
  {
   "cell_type": "code",
   "execution_count": null,
   "id": "4de9e8cd-25c8-485a-b936-e6ab8cfb5441",
   "metadata": {},
   "outputs": [],
   "source": []
  },
  {
   "cell_type": "code",
   "execution_count": null,
   "id": "bfc9620f-8a3f-47ec-aaf7-6420a0a8f453",
   "metadata": {},
   "outputs": [],
   "source": []
  },
  {
   "cell_type": "code",
   "execution_count": null,
   "id": "37777936-07d4-4565-b340-88701c31386e",
   "metadata": {},
   "outputs": [],
   "source": []
  },
  {
   "cell_type": "code",
   "execution_count": null,
   "id": "f5067335-45f2-48a7-b46c-f137b6f6ba66",
   "metadata": {},
   "outputs": [],
   "source": []
  },
  {
   "cell_type": "code",
   "execution_count": null,
   "id": "11e3b45c-72aa-4e96-9714-1236ef9e82f3",
   "metadata": {},
   "outputs": [],
   "source": []
  }
 ],
 "metadata": {
  "kernelspec": {
   "display_name": "Python 3 (ipykernel)",
   "language": "python",
   "name": "python3"
  },
  "language_info": {
   "codemirror_mode": {
    "name": "ipython",
    "version": 3
   },
   "file_extension": ".py",
   "mimetype": "text/x-python",
   "name": "python",
   "nbconvert_exporter": "python",
   "pygments_lexer": "ipython3",
   "version": "3.12.7"
  }
 },
 "nbformat": 4,
 "nbformat_minor": 5
}
